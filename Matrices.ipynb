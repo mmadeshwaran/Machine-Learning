{
  "nbformat": 4,
  "nbformat_minor": 0,
  "metadata": {
    "colab": {
      "name": "Matrices.ipynb",
      "version": "0.3.2",
      "provenance": [],
      "collapsed_sections": [],
      "include_colab_link": true
    },
    "kernelspec": {
      "name": "python3",
      "display_name": "Python 3"
    }
  },
  "cells": [
    {
      "cell_type": "markdown",
      "metadata": {
        "id": "view-in-github",
        "colab_type": "text"
      },
      "source": [
        "<a href=\"https://colab.research.google.com/github/mmadeshwaran/Machine-Learning/blob/master/Matrices.ipynb\" target=\"_parent\"><img src=\"https://colab.research.google.com/assets/colab-badge.svg\" alt=\"Open In Colab\"/></a>"
      ]
    },
    {
      "cell_type": "code",
      "metadata": {
        "id": "2kRrMiCdlIQ9",
        "colab_type": "code",
        "colab": {
          "base_uri": "https://localhost:8080/",
          "height": 67
        },
        "outputId": "9e6ccc6e-3bd4-41e4-d9e6-3512d9d795bd"
      },
      "source": [
        "import sys\n",
        "import numpy as np\n",
        "\n",
        "print('Python:{}',sys.version)\n",
        "print('Numpy: {}',np.__version__)"
      ],
      "execution_count": 3,
      "outputs": [
        {
          "output_type": "stream",
          "text": [
            "Python:{} 3.6.8 (default, Jan 14 2019, 11:02:34) \n",
            "[GCC 8.0.1 20180414 (experimental) [trunk revision 259383]]\n",
            "Numpy: {} 1.16.5\n"
          ],
          "name": "stdout"
        }
      ]
    },
    {
      "cell_type": "markdown",
      "metadata": {
        "id": "dOfa19KxpEZ_",
        "colab_type": "text"
      },
      "source": [
        "#defining a scalar"
      ]
    },
    {
      "cell_type": "code",
      "metadata": {
        "id": "HNkuFTKZlmLc",
        "colab_type": "code",
        "colab": {
          "base_uri": "https://localhost:8080/",
          "height": 34
        },
        "outputId": "cd157fb2-8d78-41e4-a2bf-feffb73affd1"
      },
      "source": [
        "\n",
        "x=6\n",
        "x"
      ],
      "execution_count": 4,
      "outputs": [
        {
          "output_type": "execute_result",
          "data": {
            "text/plain": [
              "6"
            ]
          },
          "metadata": {
            "tags": []
          },
          "execution_count": 4
        }
      ]
    },
    {
      "cell_type": "markdown",
      "metadata": {
        "id": "IO-xMyZWpMSq",
        "colab_type": "text"
      },
      "source": [
        "#defining a vector"
      ]
    },
    {
      "cell_type": "code",
      "metadata": {
        "id": "CQz-DbeOlqeW",
        "colab_type": "code",
        "colab": {
          "base_uri": "https://localhost:8080/",
          "height": 34
        },
        "outputId": "4827d5cb-b28e-40c4-a6f7-ea5e073c9ac3"
      },
      "source": [
        "\n",
        "x=np.array((1,2,3))\n",
        "x"
      ],
      "execution_count": 6,
      "outputs": [
        {
          "output_type": "execute_result",
          "data": {
            "text/plain": [
              "array([1, 2, 3])"
            ]
          },
          "metadata": {
            "tags": []
          },
          "execution_count": 6
        }
      ]
    },
    {
      "cell_type": "code",
      "metadata": {
        "id": "mQYAhl8Ol7Xr",
        "colab_type": "code",
        "colab": {
          "base_uri": "https://localhost:8080/",
          "height": 50
        },
        "outputId": "668bafb2-5960-4732-b854-e2f39075a841"
      },
      "source": [
        "print('Vector Dimension: {}', x.shape)\n",
        "print('Vector size: {}', x.size)"
      ],
      "execution_count": 7,
      "outputs": [
        {
          "output_type": "stream",
          "text": [
            "Vector Dimension: {} (3,)\n",
            "Vector size: {} 3\n"
          ],
          "name": "stdout"
        }
      ]
    },
    {
      "cell_type": "code",
      "metadata": {
        "id": "I3ADKB5GmD7J",
        "colab_type": "code",
        "colab": {
          "base_uri": "https://localhost:8080/",
          "height": 67
        },
        "outputId": "64ae5819-c2c7-4969-c5f1-95cc95d8f9eb"
      },
      "source": [
        "#defining a matrix\n",
        "x=np.matrix([[1,2,3],[4,5,6],[7,8,9]])\n",
        "x"
      ],
      "execution_count": 8,
      "outputs": [
        {
          "output_type": "execute_result",
          "data": {
            "text/plain": [
              "matrix([[1, 2, 3],\n",
              "        [4, 5, 6],\n",
              "        [7, 8, 9]])"
            ]
          },
          "metadata": {
            "tags": []
          },
          "execution_count": 8
        }
      ]
    },
    {
      "cell_type": "code",
      "metadata": {
        "id": "PDR3SGabmmoa",
        "colab_type": "code",
        "colab": {
          "base_uri": "https://localhost:8080/",
          "height": 50
        },
        "outputId": "00ffdbc7-c4ca-408e-90d2-ba43863e5fc2"
      },
      "source": [
        "print('Matrix Dimension: {}', x.shape)\n",
        "print('Matrix size: {}', x.size)"
      ],
      "execution_count": 9,
      "outputs": [
        {
          "output_type": "stream",
          "text": [
            "Matrix Dimension: {} (3, 3)\n",
            "Matrix size: {} 9\n"
          ],
          "name": "stdout"
        }
      ]
    },
    {
      "cell_type": "markdown",
      "metadata": {
        "id": "HBYcGtCbpQV4",
        "colab_type": "text"
      },
      "source": [
        "# define a matrix of a given dimension"
      ]
    },
    {
      "cell_type": "code",
      "metadata": {
        "id": "VFnnFmVPmwmG",
        "colab_type": "code",
        "colab": {
          "base_uri": "https://localhost:8080/",
          "height": 235
        },
        "outputId": "984ff85b-daeb-4d77-d724-600c2a4303a2"
      },
      "source": [
        "\n",
        "x=np.ones((3,3,3))\n",
        "print(x)\n",
        "print('Matrix Dimension: {}', x.shape)\n",
        "print('Matrix size: {}', x.size)"
      ],
      "execution_count": 14,
      "outputs": [
        {
          "output_type": "stream",
          "text": [
            "[[[1. 1. 1.]\n",
            "  [1. 1. 1.]\n",
            "  [1. 1. 1.]]\n",
            "\n",
            " [[1. 1. 1.]\n",
            "  [1. 1. 1.]\n",
            "  [1. 1. 1.]]\n",
            "\n",
            " [[1. 1. 1.]\n",
            "  [1. 1. 1.]\n",
            "  [1. 1. 1.]]]\n",
            "Matrix Dimension: {} (3, 3, 3)\n",
            "Matrix size: {} 27\n"
          ],
          "name": "stdout"
        }
      ]
    },
    {
      "cell_type": "markdown",
      "metadata": {
        "id": "fCE1Q4yHpU74",
        "colab_type": "text"
      },
      "source": [
        "# indexing"
      ]
    },
    {
      "cell_type": "code",
      "metadata": {
        "id": "9E5BOxQDnfYd",
        "colab_type": "code",
        "colab": {
          "base_uri": "https://localhost:8080/",
          "height": 101
        },
        "outputId": "b1937902-78b4-45c2-aa41-5d5a1ae52360"
      },
      "source": [
        "\n",
        "A=np.ones((5,5),dtype=np.int)\n",
        "print(A)"
      ],
      "execution_count": 15,
      "outputs": [
        {
          "output_type": "stream",
          "text": [
            "[[1 1 1 1 1]\n",
            " [1 1 1 1 1]\n",
            " [1 1 1 1 1]\n",
            " [1 1 1 1 1]\n",
            " [1 1 1 1 1]]\n"
          ],
          "name": "stdout"
        }
      ]
    },
    {
      "cell_type": "code",
      "metadata": {
        "id": "VjKzsPTyoQuL",
        "colab_type": "code",
        "colab": {
          "base_uri": "https://localhost:8080/",
          "height": 101
        },
        "outputId": "bc796dd2-80ef-4d47-af52-07b015910bea"
      },
      "source": [
        "#indexing stars at 0\n",
        "A[0,1]=2\n",
        "print(A)"
      ],
      "execution_count": 16,
      "outputs": [
        {
          "output_type": "stream",
          "text": [
            "[[1 2 1 1 1]\n",
            " [1 1 1 1 1]\n",
            " [1 1 1 1 1]\n",
            " [1 1 1 1 1]\n",
            " [1 1 1 1 1]]\n"
          ],
          "name": "stdout"
        }
      ]
    },
    {
      "cell_type": "markdown",
      "metadata": {
        "id": "8oQYi-Z7pYFJ",
        "colab_type": "text"
      },
      "source": [
        "# Assigning a column"
      ]
    },
    {
      "cell_type": "code",
      "metadata": {
        "id": "O3R1ofjUoWlL",
        "colab_type": "code",
        "colab": {
          "base_uri": "https://localhost:8080/",
          "height": 101
        },
        "outputId": "0475cf40-734f-4df3-c3e4-9d9dcd07b61d"
      },
      "source": [
        "A[:,0]=3\n",
        "print(A)"
      ],
      "execution_count": 17,
      "outputs": [
        {
          "output_type": "stream",
          "text": [
            "[[3 2 1 1 1]\n",
            " [3 1 1 1 1]\n",
            " [3 1 1 1 1]\n",
            " [3 1 1 1 1]\n",
            " [3 1 1 1 1]]\n"
          ],
          "name": "stdout"
        }
      ]
    },
    {
      "cell_type": "markdown",
      "metadata": {
        "id": "g1qXAvqFphMP",
        "colab_type": "text"
      },
      "source": [
        "# Setting all the values of a matrix to same value"
      ]
    },
    {
      "cell_type": "code",
      "metadata": {
        "id": "JhP7C5MJobdH",
        "colab_type": "code",
        "colab": {
          "base_uri": "https://localhost:8080/",
          "height": 101
        },
        "outputId": "d2661df5-a7f6-48b9-da86-06f129b0ae79"
      },
      "source": [
        "A[:,:]=7\n",
        "print(A)"
      ],
      "execution_count": 18,
      "outputs": [
        {
          "output_type": "stream",
          "text": [
            "[[7 7 7 7 7]\n",
            " [7 7 7 7 7]\n",
            " [7 7 7 7 7]\n",
            " [7 7 7 7 7]\n",
            " [7 7 7 7 7]]\n"
          ],
          "name": "stdout"
        }
      ]
    },
    {
      "cell_type": "markdown",
      "metadata": {
        "id": "FwZ--IJ1pz-f",
        "colab_type": "text"
      },
      "source": [
        "# Higher Dimension Matrix"
      ]
    },
    {
      "cell_type": "code",
      "metadata": {
        "id": "ueWq7zFXogwG",
        "colab_type": "code",
        "colab": {
          "base_uri": "https://localhost:8080/",
          "height": 504
        },
        "outputId": "74479d3b-0542-4e9c-fb2d-2117c2d86f30"
      },
      "source": [
        "A=np.ones((5,5,5), dtype=np.int)\n",
        "print(A)"
      ],
      "execution_count": 19,
      "outputs": [
        {
          "output_type": "stream",
          "text": [
            "[[[1 1 1 1 1]\n",
            "  [1 1 1 1 1]\n",
            "  [1 1 1 1 1]\n",
            "  [1 1 1 1 1]\n",
            "  [1 1 1 1 1]]\n",
            "\n",
            " [[1 1 1 1 1]\n",
            "  [1 1 1 1 1]\n",
            "  [1 1 1 1 1]\n",
            "  [1 1 1 1 1]\n",
            "  [1 1 1 1 1]]\n",
            "\n",
            " [[1 1 1 1 1]\n",
            "  [1 1 1 1 1]\n",
            "  [1 1 1 1 1]\n",
            "  [1 1 1 1 1]\n",
            "  [1 1 1 1 1]]\n",
            "\n",
            " [[1 1 1 1 1]\n",
            "  [1 1 1 1 1]\n",
            "  [1 1 1 1 1]\n",
            "  [1 1 1 1 1]\n",
            "  [1 1 1 1 1]]\n",
            "\n",
            " [[1 1 1 1 1]\n",
            "  [1 1 1 1 1]\n",
            "  [1 1 1 1 1]\n",
            "  [1 1 1 1 1]\n",
            "  [1 1 1 1 1]]]\n"
          ],
          "name": "stdout"
        }
      ]
    },
    {
      "cell_type": "markdown",
      "metadata": {
        "id": "5npsWs5bp_4H",
        "colab_type": "text"
      },
      "source": [
        "# Assign first row a new value in the higher dimension matrix"
      ]
    },
    {
      "cell_type": "code",
      "metadata": {
        "id": "pfixtK0pp-UH",
        "colab_type": "code",
        "colab": {
          "base_uri": "https://localhost:8080/",
          "height": 504
        },
        "outputId": "7b88451c-1f00-4ad7-c592-7defce5df00e"
      },
      "source": [
        "A[:,0,0]=8\n",
        "print(A)"
      ],
      "execution_count": 20,
      "outputs": [
        {
          "output_type": "stream",
          "text": [
            "[[[8 1 1 1 1]\n",
            "  [1 1 1 1 1]\n",
            "  [1 1 1 1 1]\n",
            "  [1 1 1 1 1]\n",
            "  [1 1 1 1 1]]\n",
            "\n",
            " [[8 1 1 1 1]\n",
            "  [1 1 1 1 1]\n",
            "  [1 1 1 1 1]\n",
            "  [1 1 1 1 1]\n",
            "  [1 1 1 1 1]]\n",
            "\n",
            " [[8 1 1 1 1]\n",
            "  [1 1 1 1 1]\n",
            "  [1 1 1 1 1]\n",
            "  [1 1 1 1 1]\n",
            "  [1 1 1 1 1]]\n",
            "\n",
            " [[8 1 1 1 1]\n",
            "  [1 1 1 1 1]\n",
            "  [1 1 1 1 1]\n",
            "  [1 1 1 1 1]\n",
            "  [1 1 1 1 1]]\n",
            "\n",
            " [[8 1 1 1 1]\n",
            "  [1 1 1 1 1]\n",
            "  [1 1 1 1 1]\n",
            "  [1 1 1 1 1]\n",
            "  [1 1 1 1 1]]]\n"
          ],
          "name": "stdout"
        }
      ]
    },
    {
      "cell_type": "markdown",
      "metadata": {
        "id": "xplkk965qWVl",
        "colab_type": "text"
      },
      "source": [
        "# Matrix Operation"
      ]
    },
    {
      "cell_type": "code",
      "metadata": {
        "id": "3sXu3HWEqYh1",
        "colab_type": "code",
        "colab": {
          "base_uri": "https://localhost:8080/",
          "height": 84
        },
        "outputId": "e5a7c581-7c21-45cd-f235-daaa22f2b7ee"
      },
      "source": [
        "A=np.matrix([[1,2],[4,5]])\n",
        "B=np.ones((2,2),dtype=np.int)\n",
        "print(A)\n",
        "print(B)"
      ],
      "execution_count": 22,
      "outputs": [
        {
          "output_type": "stream",
          "text": [
            "[[1 2]\n",
            " [4 5]]\n",
            "[[1 1]\n",
            " [1 1]]\n"
          ],
          "name": "stdout"
        }
      ]
    },
    {
      "cell_type": "markdown",
      "metadata": {
        "id": "GFCJH0iiqvFg",
        "colab_type": "text"
      },
      "source": [
        "# Matrix Addition"
      ]
    },
    {
      "cell_type": "code",
      "metadata": {
        "id": "8mk_o_rcql4t",
        "colab_type": "code",
        "colab": {
          "base_uri": "https://localhost:8080/",
          "height": 50
        },
        "outputId": "614b7516-bc33-4fe0-9b35-21024060df08"
      },
      "source": [
        "C=A+B\n",
        "print(C)"
      ],
      "execution_count": 23,
      "outputs": [
        {
          "output_type": "stream",
          "text": [
            "[[2 3]\n",
            " [5 6]]\n"
          ],
          "name": "stdout"
        }
      ]
    },
    {
      "cell_type": "markdown",
      "metadata": {
        "id": "LpQfwVtVqyHA",
        "colab_type": "text"
      },
      "source": [
        "# Matrix Subtraction"
      ]
    },
    {
      "cell_type": "code",
      "metadata": {
        "id": "8ex2z8FGq0IE",
        "colab_type": "code",
        "colab": {
          "base_uri": "https://localhost:8080/",
          "height": 50
        },
        "outputId": "ded7d337-b313-445e-f015-862931c5ba94"
      },
      "source": [
        "C=A-B\n",
        "print(C)"
      ],
      "execution_count": 24,
      "outputs": [
        {
          "output_type": "stream",
          "text": [
            "[[0 1]\n",
            " [3 4]]\n"
          ],
          "name": "stdout"
        }
      ]
    },
    {
      "cell_type": "markdown",
      "metadata": {
        "id": "SR6MIB7Dq38I",
        "colab_type": "text"
      },
      "source": [
        "# Matrix Multiplication"
      ]
    },
    {
      "cell_type": "code",
      "metadata": {
        "id": "Bdw7BuYeq2ma",
        "colab_type": "code",
        "colab": {
          "base_uri": "https://localhost:8080/",
          "height": 50
        },
        "outputId": "992029f3-86f1-4c4a-cec3-b7527f229645"
      },
      "source": [
        "C=A*B\n",
        "print(C)"
      ],
      "execution_count": 25,
      "outputs": [
        {
          "output_type": "stream",
          "text": [
            "[[3 3]\n",
            " [9 9]]\n"
          ],
          "name": "stdout"
        }
      ]
    },
    {
      "cell_type": "markdown",
      "metadata": {
        "id": "6WtbcT1BrWZa",
        "colab_type": "text"
      },
      "source": [
        "# Matrix Transpose"
      ]
    },
    {
      "cell_type": "code",
      "metadata": {
        "id": "c0Ki3N9vrbMV",
        "colab_type": "code",
        "colab": {
          "base_uri": "https://localhost:8080/",
          "height": 84
        },
        "outputId": "e45cce9a-3b46-423b-d78e-25d53707b44a"
      },
      "source": [
        "A=np.array(range(9))\n",
        "print(A)\n",
        "A=A.reshape(3,3)\n",
        "print(A)"
      ],
      "execution_count": 27,
      "outputs": [
        {
          "output_type": "stream",
          "text": [
            "[0 1 2 3 4 5 6 7 8]\n",
            "[[0 1 2]\n",
            " [3 4 5]\n",
            " [6 7 8]]\n"
          ],
          "name": "stdout"
        }
      ]
    },
    {
      "cell_type": "code",
      "metadata": {
        "id": "bHpRc-ajr7k7",
        "colab_type": "code",
        "colab": {
          "base_uri": "https://localhost:8080/",
          "height": 67
        },
        "outputId": "1ae424fa-f4a5-43a9-d688-0eab2f95a7eb"
      },
      "source": [
        "B=A.T\n",
        "print(B)"
      ],
      "execution_count": 28,
      "outputs": [
        {
          "output_type": "stream",
          "text": [
            "[[0 3 6]\n",
            " [1 4 7]\n",
            " [2 5 8]]\n"
          ],
          "name": "stdout"
        }
      ]
    },
    {
      "cell_type": "markdown",
      "metadata": {
        "id": "RlL1zcxusCPQ",
        "colab_type": "text"
      },
      "source": [
        "# Transpose of Transpose will give original matrix"
      ]
    },
    {
      "cell_type": "code",
      "metadata": {
        "id": "KhLcLRTAsHa4",
        "colab_type": "code",
        "colab": {
          "base_uri": "https://localhost:8080/",
          "height": 67
        },
        "outputId": "6b592970-3655-4038-ac2a-fbbc8d76dd42"
      },
      "source": [
        "B=B.T\n",
        "print(B)"
      ],
      "execution_count": 29,
      "outputs": [
        {
          "output_type": "stream",
          "text": [
            "[[0 1 2]\n",
            " [3 4 5]\n",
            " [6 7 8]]\n"
          ],
          "name": "stdout"
        }
      ]
    },
    {
      "cell_type": "markdown",
      "metadata": {
        "id": "q-MUYfC-ssLP",
        "colab_type": "text"
      },
      "source": [
        "# Tensors"
      ]
    },
    {
      "cell_type": "code",
      "metadata": {
        "id": "OAQATZ0tszh1",
        "colab_type": "code",
        "colab": {
          "base_uri": "https://localhost:8080/",
          "height": 50
        },
        "outputId": "3f3191f5-1a8b-46d8-df94-b12d89e813bc"
      },
      "source": [
        "T=np.ones((3,3,3,3,3,3,3,3))\n",
        "print(T.shape)\n",
        "print(T.size)"
      ],
      "execution_count": 30,
      "outputs": [
        {
          "output_type": "stream",
          "text": [
            "(3, 3, 3, 3, 3, 3, 3, 3)\n",
            "6561\n"
          ],
          "name": "stdout"
        }
      ]
    }
  ]
}